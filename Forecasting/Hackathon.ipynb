{
  "nbformat": 4,
  "nbformat_minor": 0,
  "metadata": {
    "colab": {
      "name": "Hackathon.ipynb",
      "provenance": [],
      "collapsed_sections": []
    },
    "kernelspec": {
      "name": "python3",
      "display_name": "Python 3"
    }
  },
  "cells": [
    {
      "cell_type": "code",
      "metadata": {
        "colab": {
          "resources": {
            "http://localhost:8080/nbextensions/google.colab/files.js": {
              "data": "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",
              "ok": true,
              "headers": [
                [
                  "content-type",
                  "application/javascript"
                ]
              ],
              "status": 200,
              "status_text": ""
            }
          },
          "base_uri": "https://localhost:8080/",
          "height": 72
        },
        "id": "s9uxT3Uaxpy7",
        "outputId": "60f0f656-72d5-46df-9808-235de0d9dd4a"
      },
      "source": [
        "from google.colab import files\n",
        "uploaded = files.upload()"
      ],
      "execution_count": null,
      "outputs": [
        {
          "output_type": "display_data",
          "data": {
            "text/html": [
              "\n",
              "     <input type=\"file\" id=\"files-d0f8dbe1-9ae3-4833-8cf8-16da386206ae\" name=\"files[]\" multiple disabled\n",
              "        style=\"border:none\" />\n",
              "     <output id=\"result-d0f8dbe1-9ae3-4833-8cf8-16da386206ae\">\n",
              "      Upload widget is only available when the cell has been executed in the\n",
              "      current browser session. Please rerun this cell to enable.\n",
              "      </output>\n",
              "      <script src=\"/nbextensions/google.colab/files.js\"></script> "
            ],
            "text/plain": [
              "<IPython.core.display.HTML object>"
            ]
          },
          "metadata": {
            "tags": []
          }
        },
        {
          "output_type": "stream",
          "text": [
            "Saving data.txt to data.txt\n"
          ],
          "name": "stdout"
        }
      ]
    },
    {
      "cell_type": "code",
      "metadata": {
        "id": "gIhOz-Nmxx6m"
      },
      "source": [
        "read_file = open(\"data.txt\", \"r\").read()"
      ],
      "execution_count": null,
      "outputs": []
    },
    {
      "cell_type": "code",
      "metadata": {
        "colab": {
          "base_uri": "https://localhost:8080/"
        },
        "id": "CgJdOTx0yiCi",
        "outputId": "8b3e36d1-c9c2-4e51-d6a6-f33103094e6d"
      },
      "source": [
        "import re\n",
        "import pandas as pd\n",
        "\n",
        "file = re.sub(\"\\s+\", \",\", read_file.strip())\n",
        "readfile2 = file.split(',')\n",
        "print(len(readfile2))"
      ],
      "execution_count": null,
      "outputs": [
        {
          "output_type": "stream",
          "text": [
            "1126920\n"
          ],
          "name": "stdout"
        }
      ]
    },
    {
      "cell_type": "code",
      "metadata": {
        "id": "YoDgHOF-y8UF"
      },
      "source": [
        "def chunks(l, n):\n",
        "    n = max(1, n)\n",
        "    return (l[i:i+n] for i in range(0, len(l), n))"
      ],
      "execution_count": null,
      "outputs": []
    },
    {
      "cell_type": "code",
      "metadata": {
        "colab": {
          "base_uri": "https://localhost:8080/"
        },
        "id": "PpnePq25y-TK",
        "outputId": "620f8676-f152-498b-dab9-efdab3101cf4"
      },
      "source": [
        "a = list(chunks(readfile2, 10))\n",
        "print(len(a))"
      ],
      "execution_count": null,
      "outputs": [
        {
          "output_type": "stream",
          "text": [
            "112692\n"
          ],
          "name": "stdout"
        }
      ]
    },
    {
      "cell_type": "code",
      "metadata": {
        "colab": {
          "base_uri": "https://localhost:8080/"
        },
        "id": "QC6rVK1azAKI",
        "outputId": "143a7d89-8f65-4649-bb91-0ecdc07c54cf"
      },
      "source": [
        "a[50]"
      ],
      "execution_count": null,
      "outputs": [
        {
          "output_type": "execute_result",
          "data": {
            "text/plain": [
              "['112642',\n",
              " '\"2020.01.05',\n",
              " '13:35:28\"',\n",
              " '75',\n",
              " '17',\n",
              " '0',\n",
              " '9',\n",
              " '33.2',\n",
              " '33.2',\n",
              " '1']"
            ]
          },
          "metadata": {
            "tags": []
          },
          "execution_count": 9
        }
      ]
    },
    {
      "cell_type": "code",
      "metadata": {
        "colab": {
          "base_uri": "https://localhost:8080/"
        },
        "id": "Ye7r_2qvzBv6",
        "outputId": "02b595e4-937a-4f5b-bcc3-ab5aee2d5885"
      },
      "source": [
        "df = pd.DataFrame (a, columns = ['id','Date','Time','Air_Moisture','Air_Temp','Soil_Moisture','Soil_Temp', 'Lat', 'Long', 'Node'])\n",
        "df.head"
      ],
      "execution_count": null,
      "outputs": [
        {
          "output_type": "execute_result",
          "data": {
            "text/plain": [
              "<bound method NDFrame.head of             id         Date       Time  ...        Lat       Long Node\n",
              "0       112692  \"2020.01.07  14:13:40\"  ...       33.2       33.2    5\n",
              "1       112691  \"2020.01.07  14:13:26\"  ...       33.2       33.2    9\n",
              "2       112690  \"2020.01.07  14:13:22\"  ...       33.2       33.2    8\n",
              "3       112689  \"2020.01.07  14:13:08\"  ...       33.2       33.2    2\n",
              "4       112688  \"2020.01.07  14:11:03\"  ...       33.2       33.2    1\n",
              "...        ...          ...        ...  ...        ...        ...  ...\n",
              "112687       5  \"2019.03.21  16:14:46\"  ...  99.999999  99.999999    5\n",
              "112688       4  \"2019.03.21  16:14:46\"  ...  99.999999  99.999999    4\n",
              "112689       3  \"2019.03.21  16:14:46\"  ...  99.999999  99.999999    3\n",
              "112690       2  \"2019.03.21  16:14:46\"  ...  99.999999  99.999999    2\n",
              "112691       1  \"2019.03.21  16:14:46\"  ...  99.999999  99.999999    1\n",
              "\n",
              "[112692 rows x 10 columns]>"
            ]
          },
          "metadata": {
            "tags": []
          },
          "execution_count": 188
        }
      ]
    },
    {
      "cell_type": "code",
      "metadata": {
        "colab": {
          "base_uri": "https://localhost:8080/"
        },
        "id": "8TI8Gw7hzEJU",
        "outputId": "a9562913-ae66-4df7-8e9b-86e16b46bebd"
      },
      "source": [
        "df = df.drop(columns=['id', 'Lat', 'Long', 'Node'])\n",
        "df.head"
      ],
      "execution_count": null,
      "outputs": [
        {
          "output_type": "execute_result",
          "data": {
            "text/plain": [
              "<bound method NDFrame.head of                Date       Time Air_Moisture Air_Temp Soil_Moisture Soil_Temp\n",
              "0       \"2020.01.07  14:13:40\"           91     13.5         78.21    10.125\n",
              "1       \"2020.01.07  14:13:26\"           91     13.6        92.672     9.938\n",
              "2       \"2020.01.07  14:13:22\"           91     13.6          81.2     9.875\n",
              "3       \"2020.01.07  14:13:08\"           91     13.2        68.817    10.375\n",
              "4       \"2020.01.07  14:11:03\"           91     13.2           100    10.313\n",
              "...             ...        ...          ...      ...           ...       ...\n",
              "112687  \"2019.03.21  16:14:46\"           21       22            21        11\n",
              "112688  \"2019.03.21  16:14:46\"           21       22            21        43\n",
              "112689  \"2019.03.21  16:14:46\"           21       22            33        12\n",
              "112690  \"2019.03.21  16:14:46\"           21       22            25        26\n",
              "112691  \"2019.03.21  16:14:46\"           21       22            23        24\n",
              "\n",
              "[112692 rows x 6 columns]>"
            ]
          },
          "metadata": {
            "tags": []
          },
          "execution_count": 189
        }
      ]
    },
    {
      "cell_type": "code",
      "metadata": {
        "colab": {
          "base_uri": "https://localhost:8080/"
        },
        "id": "O382n6RyzGyV",
        "outputId": "f07dcd2a-e142-4d0d-f35e-bcebe05a3127"
      },
      "source": [
        "df[\"Air_Moisture\"] = pd.to_numeric(df[\"Air_Moisture\"])\n",
        "df[\"Air_Temp\"] = pd.to_numeric(df[\"Air_Temp\"])\n",
        "df[\"Soil_Moisture\"] = pd.to_numeric(df[\"Soil_Moisture\"])\n",
        "df[\"Soil_Temp\"] = pd.to_numeric(df[\"Soil_Temp\"])\n",
        "\n",
        "df.dtypes"
      ],
      "execution_count": null,
      "outputs": [
        {
          "output_type": "execute_result",
          "data": {
            "text/plain": [
              "Date              object\n",
              "Time              object\n",
              "Air_Moisture     float64\n",
              "Air_Temp         float64\n",
              "Soil_Moisture    float64\n",
              "Soil_Temp        float64\n",
              "dtype: object"
            ]
          },
          "metadata": {
            "tags": []
          },
          "execution_count": 190
        }
      ]
    },
    {
      "cell_type": "code",
      "metadata": {
        "colab": {
          "base_uri": "https://localhost:8080/"
        },
        "id": "nrmmLRS6zJJC",
        "outputId": "a7c3b61b-f9eb-4778-9b07-23ae47b5525d"
      },
      "source": [
        "df[\"Date\"] = df['Date'].str.replace('\\\"','')\n",
        "df[\"Time\"] = df['Time'].str.replace('\\\"','')\n",
        "df.head"
      ],
      "execution_count": null,
      "outputs": [
        {
          "output_type": "execute_result",
          "data": {
            "text/plain": [
              "<bound method NDFrame.head of               Date      Time  Air_Moisture  Air_Temp  Soil_Moisture  Soil_Temp\n",
              "0       2020.01.07  14:13:40          91.0      13.5         78.210     10.125\n",
              "1       2020.01.07  14:13:26          91.0      13.6         92.672      9.938\n",
              "2       2020.01.07  14:13:22          91.0      13.6         81.200      9.875\n",
              "3       2020.01.07  14:13:08          91.0      13.2         68.817     10.375\n",
              "4       2020.01.07  14:11:03          91.0      13.2        100.000     10.313\n",
              "...            ...       ...           ...       ...            ...        ...\n",
              "112687  2019.03.21  16:14:46          21.0      22.0         21.000     11.000\n",
              "112688  2019.03.21  16:14:46          21.0      22.0         21.000     43.000\n",
              "112689  2019.03.21  16:14:46          21.0      22.0         33.000     12.000\n",
              "112690  2019.03.21  16:14:46          21.0      22.0         25.000     26.000\n",
              "112691  2019.03.21  16:14:46          21.0      22.0         23.000     24.000\n",
              "\n",
              "[112692 rows x 6 columns]>"
            ]
          },
          "metadata": {
            "tags": []
          },
          "execution_count": 191
        }
      ]
    },
    {
      "cell_type": "code",
      "metadata": {
        "colab": {
          "base_uri": "https://localhost:8080/"
        },
        "id": "OGLQUsC1zLWY",
        "outputId": "4cff7ae5-eccb-4a2d-b75e-12e0b7551b69"
      },
      "source": [
        "df[\"Timestamp\"] = df[\"Date\"]+\" \"+df[\"Time\"]\n",
        "df = df.drop(columns=['Date', 'Time'])\n",
        "df.head"
      ],
      "execution_count": null,
      "outputs": [
        {
          "output_type": "execute_result",
          "data": {
            "text/plain": [
              "<bound method NDFrame.head of         Air_Moisture  Air_Temp  Soil_Moisture  Soil_Temp            Timestamp\n",
              "0               91.0      13.5         78.210     10.125  2020.01.07 14:13:40\n",
              "1               91.0      13.6         92.672      9.938  2020.01.07 14:13:26\n",
              "2               91.0      13.6         81.200      9.875  2020.01.07 14:13:22\n",
              "3               91.0      13.2         68.817     10.375  2020.01.07 14:13:08\n",
              "4               91.0      13.2        100.000     10.313  2020.01.07 14:11:03\n",
              "...              ...       ...            ...        ...                  ...\n",
              "112687          21.0      22.0         21.000     11.000  2019.03.21 16:14:46\n",
              "112688          21.0      22.0         21.000     43.000  2019.03.21 16:14:46\n",
              "112689          21.0      22.0         33.000     12.000  2019.03.21 16:14:46\n",
              "112690          21.0      22.0         25.000     26.000  2019.03.21 16:14:46\n",
              "112691          21.0      22.0         23.000     24.000  2019.03.21 16:14:46\n",
              "\n",
              "[112692 rows x 5 columns]>"
            ]
          },
          "metadata": {
            "tags": []
          },
          "execution_count": 192
        }
      ]
    },
    {
      "cell_type": "code",
      "metadata": {
        "colab": {
          "base_uri": "https://localhost:8080/"
        },
        "id": "8XK-FOgPzQhR",
        "outputId": "39bae5e3-361c-44c9-b44a-50e4f3e74ab5"
      },
      "source": [
        "df['Timestamp'] = df['Timestamp'].astype('str') \n",
        "df['Timestamp'] = pd.to_datetime(df['Timestamp'], format= \"%Y%m%d %H:%M:%S\")\n",
        "df.dtypes"
      ],
      "execution_count": null,
      "outputs": [
        {
          "output_type": "execute_result",
          "data": {
            "text/plain": [
              "Air_Moisture            float64\n",
              "Air_Temp                float64\n",
              "Soil_Moisture           float64\n",
              "Soil_Temp               float64\n",
              "Timestamp        datetime64[ns]\n",
              "dtype: object"
            ]
          },
          "metadata": {
            "tags": []
          },
          "execution_count": 193
        }
      ]
    },
    {
      "cell_type": "code",
      "metadata": {
        "colab": {
          "base_uri": "https://localhost:8080/"
        },
        "id": "-8-N9McEzVFf",
        "outputId": "770700bf-53f4-4500-8415-e3545e70510b"
      },
      "source": [
        "df = df.sort_values(by=['Timestamp'])\n",
        "df.head"
      ],
      "execution_count": null,
      "outputs": [
        {
          "output_type": "execute_result",
          "data": {
            "text/plain": [
              "<bound method NDFrame.head of         Air_Moisture  Air_Temp  Soil_Moisture  Soil_Temp           Timestamp\n",
              "112691          21.0      22.0         23.000     24.000 2019-03-21 16:14:46\n",
              "112687          21.0      22.0         21.000     11.000 2019-03-21 16:14:46\n",
              "112690          21.0      22.0         25.000     26.000 2019-03-21 16:14:46\n",
              "112689          21.0      22.0         33.000     12.000 2019-03-21 16:14:46\n",
              "112688          21.0      22.0         21.000     43.000 2019-03-21 16:14:46\n",
              "...              ...       ...            ...        ...                 ...\n",
              "4               91.0      13.2        100.000     10.313 2020-01-07 14:11:03\n",
              "3               91.0      13.2         68.817     10.375 2020-01-07 14:13:08\n",
              "2               91.0      13.6         81.200      9.875 2020-01-07 14:13:22\n",
              "1               91.0      13.6         92.672      9.938 2020-01-07 14:13:26\n",
              "0               91.0      13.5         78.210     10.125 2020-01-07 14:13:40\n",
              "\n",
              "[112692 rows x 5 columns]>"
            ]
          },
          "metadata": {
            "tags": []
          },
          "execution_count": 194
        }
      ]
    },
    {
      "cell_type": "code",
      "metadata": {
        "id": "bTyiTcVBzXYR"
      },
      "source": [
        "# df = df.dropna()\n",
        "# df.head"
      ],
      "execution_count": null,
      "outputs": []
    },
    {
      "cell_type": "code",
      "metadata": {
        "id": "N51piHMvzaVh"
      },
      "source": [
        "# df = df[~(df == 0).any(axis=1)]\n",
        "# df.head"
      ],
      "execution_count": null,
      "outputs": []
    },
    {
      "cell_type": "code",
      "metadata": {
        "id": "RZPKVc21zcir"
      },
      "source": [
        "# df = df.reset_index(drop=True)\n",
        "# df.head"
      ],
      "execution_count": null,
      "outputs": []
    },
    {
      "cell_type": "code",
      "metadata": {
        "id": "y4aang1vzert"
      },
      "source": [
        "original = df.copy()"
      ],
      "execution_count": null,
      "outputs": []
    },
    {
      "cell_type": "markdown",
      "metadata": {
        "id": "29wDpMvjZrbC"
      },
      "source": [
        "Forecasting with frequency as minutes"
      ]
    },
    {
      "cell_type": "code",
      "metadata": {
        "colab": {
          "base_uri": "https://localhost:8080/"
        },
        "id": "TwLELRwFzhjU",
        "outputId": "7cf99e30-06b6-40df-cc4b-05c7bfd49ad1"
      },
      "source": [
        "df = df.set_index(['Timestamp'], drop=True)\n",
        "df = df.resample('T').mean()\n",
        "df.head"
      ],
      "execution_count": null,
      "outputs": [
        {
          "output_type": "execute_result",
          "data": {
            "text/plain": [
              "<bound method NDFrame.head of                      Air_Moisture  Air_Temp  Soil_Moisture  Soil_Temp\n",
              "Timestamp                                                            \n",
              "2019-03-21 16:14:00          21.0    22.000       24.60000   23.20000\n",
              "2019-03-21 16:15:00           NaN       NaN            NaN        NaN\n",
              "2019-03-21 16:16:00           NaN       NaN            NaN        NaN\n",
              "2019-03-21 16:17:00           NaN       NaN            NaN        NaN\n",
              "2019-03-21 16:18:00           NaN       NaN            NaN        NaN\n",
              "...                           ...       ...            ...        ...\n",
              "2020-01-07 14:09:00           NaN       NaN            NaN        NaN\n",
              "2020-01-07 14:10:00          91.0    13.300       81.79450   10.78150\n",
              "2020-01-07 14:11:00          91.0    13.200      100.00000   10.31300\n",
              "2020-01-07 14:12:00           NaN       NaN            NaN        NaN\n",
              "2020-01-07 14:13:00          91.0    13.475       80.22475   10.07825\n",
              "\n",
              "[420360 rows x 4 columns]>"
            ]
          },
          "metadata": {
            "tags": []
          },
          "execution_count": 199
        }
      ]
    },
    {
      "cell_type": "code",
      "metadata": {
        "colab": {
          "base_uri": "https://localhost:8080/"
        },
        "id": "JT1wUQxK4nI6",
        "outputId": "0b14d2c8-253c-4b96-bf38-469ccc00bf2d"
      },
      "source": [
        "df = df.fillna(df.mean())\n",
        "df.head"
      ],
      "execution_count": null,
      "outputs": [
        {
          "output_type": "execute_result",
          "data": {
            "text/plain": [
              "<bound method NDFrame.head of                      Air_Moisture   Air_Temp  Soil_Moisture  Soil_Temp\n",
              "Timestamp                                                             \n",
              "2019-03-21 16:14:00     21.000000  22.000000      24.600000  23.200000\n",
              "2019-03-21 16:15:00     63.702282  23.737264      52.738325  18.103805\n",
              "2019-03-21 16:16:00     63.702282  23.737264      52.738325  18.103805\n",
              "2019-03-21 16:17:00     63.702282  23.737264      52.738325  18.103805\n",
              "2019-03-21 16:18:00     63.702282  23.737264      52.738325  18.103805\n",
              "...                           ...        ...            ...        ...\n",
              "2020-01-07 14:09:00     63.702282  23.737264      52.738325  18.103805\n",
              "2020-01-07 14:10:00     91.000000  13.300000      81.794500  10.781500\n",
              "2020-01-07 14:11:00     91.000000  13.200000     100.000000  10.313000\n",
              "2020-01-07 14:12:00     63.702282  23.737264      52.738325  18.103805\n",
              "2020-01-07 14:13:00     91.000000  13.475000      80.224750  10.078250\n",
              "\n",
              "[420360 rows x 4 columns]>"
            ]
          },
          "metadata": {
            "tags": []
          },
          "execution_count": 200
        }
      ]
    },
    {
      "cell_type": "code",
      "metadata": {
        "colab": {
          "base_uri": "https://localhost:8080/"
        },
        "id": "zqOc-n_b1P3g",
        "outputId": "8c85ec3f-01f0-48d0-85de-2e9eb4fa6046"
      },
      "source": [
        "train = df[:int(0.8*(len(df)))]\n",
        "valid = df[int(0.8*(len(df))):]\n",
        "\n",
        "#fit the model\n",
        "from statsmodels.tsa.vector_ar.var_model import VAR\n",
        "\n",
        "model = VAR(endog=train)\n",
        "model_fit = model.fit()\n",
        "\n",
        "# make prediction on validation\n",
        "prediction = model_fit.forecast(model_fit.y, steps=len(valid))"
      ],
      "execution_count": null,
      "outputs": [
        {
          "output_type": "stream",
          "text": [
            "/usr/local/lib/python3.6/dist-packages/statsmodels/base/wrapper.py:35: FutureWarning: y is a deprecated alias for endog, will be removed in version 0.11.0\n",
            "  obj = getattr(results, attr)\n"
          ],
          "name": "stderr"
        }
      ]
    },
    {
      "cell_type": "code",
      "metadata": {
        "colab": {
          "base_uri": "https://localhost:8080/"
        },
        "id": "4Yor2s5P5vc-",
        "outputId": "5ccc9d52-b89e-45e7-efc8-f38bbebdf825"
      },
      "source": [
        "#Error calculation\n",
        "from sklearn.metrics import mean_squared_error\n",
        "import numpy as np\n",
        "import math\n",
        "cols = df.columns\n",
        "pred = pd.DataFrame(index=range(0,len(prediction)),columns=[df.columns])\n",
        "for j in range(0,4):\n",
        "    for i in range(0, len(prediction)):\n",
        "       pred.iloc[i][j] = prediction[i][j]\n",
        "for i in range(len(cols)):\n",
        "    print('rmse value for', cols[i], 'is : ', np.sqrt(mean_squared_error(pred.iloc[i], valid.iloc[i])))"
      ],
      "execution_count": null,
      "outputs": [
        {
          "output_type": "stream",
          "text": [
            "rmse value for Air_Moisture is :  0.23428704128491268\n",
            "rmse value for Air_Temp is :  0.30057936222260107\n",
            "rmse value for Soil_Moisture is :  0.32199994450356867\n",
            "rmse value for Soil_Temp is :  0.32946831288228023\n"
          ],
          "name": "stdout"
        }
      ]
    },
    {
      "cell_type": "code",
      "metadata": {
        "colab": {
          "base_uri": "https://localhost:8080/"
        },
        "id": "nX2PfXYl2AMg",
        "outputId": "6f49dc03-3a22-466b-aec1-d853eea3d2a5"
      },
      "source": [
        "#make next 7hours prediction\n",
        "model = VAR(endog=df)\n",
        "model_fit = model.fit()\n",
        "yhat = model_fit.forecast(model_fit.y, steps=7)\n",
        "print(yhat)"
      ],
      "execution_count": null,
      "outputs": [
        {
          "output_type": "stream",
          "text": [
            "[[83.76979944 15.61432536 78.21819194 11.60770658]\n",
            " [78.25925601 17.65207547 75.50560992 12.85418239]\n",
            " [73.91452954 19.31447283 73.04074072 13.97993006]\n",
            " [70.55826097 20.66002249 70.82232604 14.98474479]\n",
            " [68.02333671 21.74116106 68.8424816  15.87245887]\n",
            " [66.15803312 22.60396645 67.08865777 16.64965966]\n",
            " [64.82854829 23.2882543  65.54525801 17.32466709]]\n"
          ],
          "name": "stdout"
        },
        {
          "output_type": "stream",
          "text": [
            "/usr/local/lib/python3.6/dist-packages/statsmodels/base/wrapper.py:35: FutureWarning: y is a deprecated alias for endog, will be removed in version 0.11.0\n",
            "  obj = getattr(results, attr)\n"
          ],
          "name": "stderr"
        }
      ]
    },
    {
      "cell_type": "markdown",
      "metadata": {
        "id": "xqeoqbs-Zbrk"
      },
      "source": [
        "Forcasting with frequency as hours."
      ]
    },
    {
      "cell_type": "code",
      "metadata": {
        "colab": {
          "base_uri": "https://localhost:8080/"
        },
        "id": "yqRzdoF_-m_R",
        "outputId": "c18a5fd8-e234-48c4-d0f7-e2754e023770"
      },
      "source": [
        "original = original.set_index(['Timestamp'], drop=True)\n",
        "original = original.resample('h').mean()\n",
        "original.head"
      ],
      "execution_count": null,
      "outputs": [
        {
          "output_type": "execute_result",
          "data": {
            "text/plain": [
              "<bound method NDFrame.head of                      Air_Moisture   Air_Temp  Soil_Moisture  Soil_Temp\n",
              "Timestamp                                                             \n",
              "2019-03-21 16:00:00     21.000000  22.000000      24.600000  23.200000\n",
              "2019-03-21 17:00:00     38.666667  25.333333      50.500000        NaN\n",
              "2019-03-21 18:00:00           NaN        NaN            NaN        NaN\n",
              "2019-03-21 19:00:00           NaN        NaN            NaN        NaN\n",
              "2019-03-21 20:00:00           NaN        NaN            NaN        NaN\n",
              "...                           ...        ...            ...        ...\n",
              "2020-01-07 10:00:00           NaN        NaN            NaN        NaN\n",
              "2020-01-07 11:00:00           NaN        NaN            NaN        NaN\n",
              "2020-01-07 12:00:00     89.944444  12.433333      78.750833   9.104444\n",
              "2020-01-07 13:00:00           NaN        NaN            NaN        NaN\n",
              "2020-01-07 14:00:00     90.647059  13.147059      76.396059   9.643588\n",
              "\n",
              "[7007 rows x 4 columns]>"
            ]
          },
          "metadata": {
            "tags": []
          },
          "execution_count": 204
        }
      ]
    },
    {
      "cell_type": "code",
      "metadata": {
        "colab": {
          "base_uri": "https://localhost:8080/"
        },
        "id": "ReWgUYQb-sUA",
        "outputId": "abe3d8d3-82bd-4d0c-df32-0e8790c65c94"
      },
      "source": [
        "original = original.fillna(original.mean())\n",
        "original.head"
      ],
      "execution_count": null,
      "outputs": [
        {
          "output_type": "execute_result",
          "data": {
            "text/plain": [
              "<bound method NDFrame.head of                      Air_Moisture   Air_Temp  Soil_Moisture  Soil_Temp\n",
              "Timestamp                                                             \n",
              "2019-03-21 16:00:00     21.000000  22.000000      24.600000  23.200000\n",
              "2019-03-21 17:00:00     38.666667  25.333333      50.500000  19.646274\n",
              "2019-03-21 18:00:00     59.195159  26.756062      45.725832  19.646274\n",
              "2019-03-21 19:00:00     59.195159  26.756062      45.725832  19.646274\n",
              "2019-03-21 20:00:00     59.195159  26.756062      45.725832  19.646274\n",
              "...                           ...        ...            ...        ...\n",
              "2020-01-07 10:00:00     59.195159  26.756062      45.725832  19.646274\n",
              "2020-01-07 11:00:00     59.195159  26.756062      45.725832  19.646274\n",
              "2020-01-07 12:00:00     89.944444  12.433333      78.750833   9.104444\n",
              "2020-01-07 13:00:00     59.195159  26.756062      45.725832  19.646274\n",
              "2020-01-07 14:00:00     90.647059  13.147059      76.396059   9.643588\n",
              "\n",
              "[7007 rows x 4 columns]>"
            ]
          },
          "metadata": {
            "tags": []
          },
          "execution_count": 205
        }
      ]
    },
    {
      "cell_type": "code",
      "metadata": {
        "colab": {
          "base_uri": "https://localhost:8080/"
        },
        "id": "TfRr1-JU-5fz",
        "outputId": "44b2c06b-aac0-46da-a9d8-9e55325a89f8"
      },
      "source": [
        "train = original[:int(0.8*(len(original)))]\n",
        "valid = original[int(0.8*(len(original))):]\n",
        "\n",
        "#fit the model\n",
        "\n",
        "model = VAR(endog=train)\n",
        "model_fit = model.fit()\n",
        "\n",
        "# make prediction on validation\n",
        "prediction = model_fit.forecast(model_fit.y, steps=len(valid))\n",
        "\n",
        "#Error calculation\n",
        "cols = original.columns\n",
        "pred = pd.DataFrame(index=range(0,len(prediction)),columns=[cols])\n",
        "for j in range(0,4):\n",
        "    for i in range(0, len(prediction)):\n",
        "       pred.iloc[i][j] = prediction[i][j]\n",
        "for i in range(len(cols)):\n",
        "    print('rmse value for', cols[i], 'is : ', np.sqrt(mean_squared_error(pred.iloc[i], valid.iloc[i])))\n",
        "\n",
        "#make next 7 days prediction\n",
        "model = VAR(endog=df)\n",
        "model_fit = model.fit()\n",
        "yhat = model_fit.forecast(model_fit.y, steps=7)\n",
        "print(yhat)"
      ],
      "execution_count": null,
      "outputs": [
        {
          "output_type": "stream",
          "text": [
            "/usr/local/lib/python3.6/dist-packages/statsmodels/base/wrapper.py:35: FutureWarning: y is a deprecated alias for endog, will be removed in version 0.11.0\n",
            "  obj = getattr(results, attr)\n"
          ],
          "name": "stderr"
        },
        {
          "output_type": "stream",
          "text": [
            "rmse value for Air_Moisture is :  0.18776183078519568\n",
            "rmse value for Air_Temp is :  0.30401100701123196\n",
            "rmse value for Soil_Moisture is :  0.3802036390246619\n",
            "rmse value for Soil_Temp is :  0.4332765750788156\n",
            "[[79.40331746 18.09510859 63.28773632 14.01125371]\n",
            " [72.67836312 20.61585075 57.14063783 15.9887352 ]\n",
            " [68.80273719 22.01315458 54.73247973 16.99725274]\n",
            " [66.58683068 22.78743086 53.70832257 17.51883579]\n",
            " [65.3281337  23.214886   53.23675881 17.79190391]\n",
            " [64.61656428 23.45014201 53.00440569 17.93632746]\n",
            " [64.21563643 23.57939996 52.88389522 18.01335046]]\n"
          ],
          "name": "stdout"
        },
        {
          "output_type": "stream",
          "text": [
            "/usr/local/lib/python3.6/dist-packages/statsmodels/base/wrapper.py:35: FutureWarning: y is a deprecated alias for endog, will be removed in version 0.11.0\n",
            "  obj = getattr(results, attr)\n"
          ],
          "name": "stderr"
        }
      ]
    },
    {
      "cell_type": "code",
      "metadata": {
        "id": "aBkozi_t_QCv"
      },
      "source": [
        ""
      ],
      "execution_count": null,
      "outputs": []
    }
  ]
}